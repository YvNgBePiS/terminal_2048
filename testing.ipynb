{
 "cells": [
  {
   "cell_type": "code",
   "execution_count": 2,
   "metadata": {
    "collapsed": true
   },
   "outputs": [],
   "source": [
    "import numpy as np\n",
    "from numpy import ndarray"
   ]
  },
  {
   "cell_type": "code",
   "execution_count": null,
   "outputs": [],
   "source": [
    "board: ndarray[int, ...] = np.zeros((4,4), dtype=int)"
   ],
   "metadata": {
    "collapsed": false
   }
  },
  {
   "cell_type": "code",
   "execution_count": 3,
   "outputs": [
    {
     "name": "stdout",
     "output_type": "stream",
     "text": [
      "[[1. 1.]\n",
      " [1. 1.]]\n"
     ]
    }
   ],
   "source": [
    "temp = np.ones((2,2))\n",
    "print(temp)"
   ],
   "metadata": {
    "collapsed": false
   }
  },
  {
   "cell_type": "code",
   "execution_count": 5,
   "outputs": [
    {
     "data": {
      "text/plain": "array([[ True,  True],\n       [ True,  True]])"
     },
     "execution_count": 5,
     "metadata": {},
     "output_type": "execute_result"
    }
   ],
   "source": [
    "temp == 1"
   ],
   "metadata": {
    "collapsed": false
   }
  },
  {
   "cell_type": "code",
   "execution_count": 11,
   "outputs": [
    {
     "name": "stdout",
     "output_type": "stream",
     "text": [
      "(array([0, 0, 1, 1]), array([0, 1, 0, 1]))\n",
      "<class 'tuple'>\n"
     ]
    }
   ],
   "source": [
    "temp_where = np.where(temp == 1)\n",
    "print(temp_where)\n",
    "print(type(temp_where))"
   ],
   "metadata": {
    "collapsed": false
   }
  },
  {
   "cell_type": "code",
   "execution_count": 12,
   "outputs": [
    {
     "name": "stdout",
     "output_type": "stream",
     "text": [
      "[[1. 1.]\n",
      " [9. 1.]]\n"
     ]
    }
   ],
   "source": [
    "random_index = np.random.choice(temp_where[0].size)\n",
    "row = temp_where[0][random_index]\n",
    "col = temp_where[1][random_index]\n",
    "temp[row, col] = 9\n",
    "print(temp)"
   ],
   "metadata": {
    "collapsed": false
   }
  },
  {
   "cell_type": "code",
   "execution_count": 19,
   "outputs": [],
   "source": [
    "temp[(1, 1)] = 2"
   ],
   "metadata": {
    "collapsed": false
   }
  },
  {
   "cell_type": "code",
   "execution_count": 20,
   "outputs": [
    {
     "name": "stdout",
     "output_type": "stream",
     "text": [
      "[[1. 1.]\n",
      " [9. 2.]]\n"
     ]
    }
   ],
   "source": [
    "print(temp)"
   ],
   "metadata": {
    "collapsed": false
   }
  },
  {
   "cell_type": "code",
   "execution_count": 95,
   "outputs": [],
   "source": [
    "def has_open_space(board: ndarray[int, ...]) ->bool:\n",
    "    return np.any(board == 0)"
   ],
   "metadata": {
    "collapsed": false
   }
  },
  {
   "cell_type": "code",
   "execution_count": 94,
   "outputs": [],
   "source": [
    "def add_value(board: ndarray[int, ...])-> ndarray[int, ...]:\n",
    "    #make a list of all the empty spaces in the\n",
    "    empty_spaces = list(zip(np.where(board == 0)[0], np.where(board == 0)[1]))\n",
    "    random_index = np.random.choice(len(empty_spaces))\n",
    "    new_board = board.copy()\n",
    "    new_board[empty_spaces[random_index]] = np.random.choice([2,4], p=[2/3, 1/3])\n",
    "    return new_board"
   ],
   "metadata": {
    "collapsed": false
   }
  },
  {
   "cell_type": "code",
   "execution_count": 91,
   "outputs": [],
   "source": [
    "def make_move(board: ndarray[int, ...], current_score: int, direction: int)-> tuple[ndarray[int, ...], int]:\n",
    "    # 0: up, 1: right, 2: down, 3: left\n",
    "    new_board = np.copy(board)\n",
    "    new_board = np.rot90(new_board, k=direction)\n",
    "    shifted_board = shift(new_board)\n",
    "    joined_board, score_change = join(shifted_board)\n",
    "    return_board = np.rot90(joined_board, k=(4-direction))\n",
    "    return return_board, current_score + score_change\n"
   ],
   "metadata": {
    "collapsed": false
   }
  },
  {
   "cell_type": "code",
   "execution_count": 92,
   "outputs": [],
   "source": [
    "def shift(board: ndarray[int, ...]) -> ndarray[int, ...]:\n",
    "    new_board = np.copy(board)\n",
    "    for column in range(board.shape[1]):\n",
    "        top_row = 0 #stores the row of the highest zero element\n",
    "        for row in range(board.shape[0]):\n",
    "            if new_board[row, column] != 0:\n",
    "                new_board[(top_row, row), (column, column)] = new_board[(row, top_row), (column, column)]\n",
    "                top_row += 1\n",
    "    return new_board"
   ],
   "metadata": {
    "collapsed": false
   }
  },
  {
   "cell_type": "code",
   "execution_count": 93,
   "outputs": [],
   "source": [
    "def join(board: ndarray[int, ...]) -> tuple[ndarray[int, ...], int]:\n",
    "    new_board = np.copy(board)\n",
    "    score_change = 0\n",
    "    for column in range(board.shape[1]):\n",
    "        for row in range(board.shape[0] - 1):\n",
    "            if new_board[row, column] == new_board[row + 1, column] and new_board[row, column] != 0:\n",
    "                new_board[row, column] += new_board[row + 1, column]\n",
    "                score_change += new_board[row, column]\n",
    "                new_board[row + 1, column] = 0\n",
    "                new_board[(row + 1):, column] = np.roll(new_board[(row + 1):, column], -1)\n",
    "    return new_board, score_change\n"
   ],
   "metadata": {
    "collapsed": false
   }
  },
  {
   "cell_type": "code",
   "execution_count": 98,
   "outputs": [
    {
     "name": "stdout",
     "output_type": "stream",
     "text": [
      "[[0. 0. 0. 0.]\n",
      " [0. 0. 0. 0.]\n",
      " [0. 0. 0. 0.]\n",
      " [0. 0. 0. 0.]] \n",
      "score: 0\n",
      "\n",
      "chose move:  down\n",
      "[[0. 0. 0. 2.]\n",
      " [0. 0. 0. 0.]\n",
      " [0. 0. 0. 0.]\n",
      " [0. 0. 0. 0.]] \n",
      "score: 0\n",
      "\n",
      "chose move:  up\n",
      "[[0. 0. 0. 2.]\n",
      " [0. 0. 0. 0.]\n",
      " [0. 0. 0. 0.]\n",
      " [0. 0. 0. 2.]] \n",
      "score: 0\n",
      "\n",
      "chose move:  left\n",
      "[[2. 0. 0. 2.]\n",
      " [0. 0. 0. 0.]\n",
      " [0. 0. 0. 0.]\n",
      " [2. 0. 0. 0.]] \n",
      "score: 0\n",
      "\n",
      "chose move:  right\n",
      "[[2. 0. 0. 4.]\n",
      " [0. 0. 0. 0.]\n",
      " [0. 0. 0. 0.]\n",
      " [0. 0. 0. 2.]] \n",
      "score: 4.0\n",
      "\n",
      "chose move:  down\n",
      "[[0. 0. 0. 0.]\n",
      " [0. 0. 0. 0.]\n",
      " [0. 2. 0. 4.]\n",
      " [2. 0. 0. 2.]] \n",
      "score: 4.0\n",
      "\n",
      "chose move:  left\n",
      "[[0. 0. 0. 0.]\n",
      " [0. 0. 2. 0.]\n",
      " [2. 4. 0. 0.]\n",
      " [4. 0. 0. 0.]] \n",
      "score: 8.0\n",
      "\n",
      "chose move:  right\n",
      "[[0. 0. 0. 0.]\n",
      " [0. 0. 0. 2.]\n",
      " [0. 0. 2. 4.]\n",
      " [0. 2. 0. 4.]] \n",
      "score: 8.0\n",
      "\n",
      "chose move:  right\n",
      "[[0. 0. 0. 0.]\n",
      " [0. 2. 0. 2.]\n",
      " [0. 0. 2. 4.]\n",
      " [0. 0. 2. 4.]] \n",
      "score: 8.0\n",
      "\n",
      "chose move:  right\n",
      "[[0. 0. 0. 0.]\n",
      " [0. 0. 0. 4.]\n",
      " [0. 2. 2. 4.]\n",
      " [0. 0. 2. 4.]] \n",
      "score: 12.0\n",
      "\n",
      "chose move:  up\n",
      "[[0. 2. 4. 8.]\n",
      " [0. 0. 0. 4.]\n",
      " [0. 0. 0. 0.]\n",
      " [0. 0. 0. 4.]] \n",
      "score: 24.0\n",
      "\n",
      "chose move:  down\n",
      "[[2. 0. 0. 0.]\n",
      " [0. 0. 0. 0.]\n",
      " [0. 0. 0. 8.]\n",
      " [0. 2. 4. 8.]] \n",
      "score: 32.0\n",
      "\n",
      "chose move:  down\n",
      "[[ 0.  0.  0.  0.]\n",
      " [ 0.  0.  0.  2.]\n",
      " [ 0.  0.  0.  0.]\n",
      " [ 2.  2.  4. 16.]] \n",
      "score: 48.0\n",
      "\n",
      "chose move:  up\n",
      "[[ 2.  2.  4.  2.]\n",
      " [ 0.  0.  0. 16.]\n",
      " [ 4.  0.  0.  0.]\n",
      " [ 0.  0.  0.  0.]] \n",
      "score: 48.0\n",
      "\n",
      "chose move:  down\n",
      "[[ 0.  0.  4.  0.]\n",
      " [ 0.  0.  0.  0.]\n",
      " [ 2.  0.  0.  2.]\n",
      " [ 4.  2.  4. 16.]] \n",
      "score: 48.0\n",
      "\n",
      "chose move:  left\n",
      "[[ 4.  0.  2.  0.]\n",
      " [ 0.  0.  0.  0.]\n",
      " [ 4.  0.  0.  0.]\n",
      " [ 4.  2.  4. 16.]] \n",
      "score: 52.0\n",
      "\n",
      "chose move:  up\n",
      "[[ 8.  2.  2. 16.]\n",
      " [ 4.  0.  4.  0.]\n",
      " [ 0.  0.  0.  0.]\n",
      " [ 2.  0.  0.  0.]] \n",
      "score: 60.0\n",
      "\n",
      "chose move:  down\n",
      "[[ 0.  0.  2.  0.]\n",
      " [ 8.  0.  0.  0.]\n",
      " [ 4.  0.  2.  0.]\n",
      " [ 2.  2.  4. 16.]] \n",
      "score: 60.0\n",
      "\n",
      "chose move:  down\n",
      "[[ 0.  0.  0.  0.]\n",
      " [ 8.  0.  4.  0.]\n",
      " [ 4.  0.  4.  0.]\n",
      " [ 2.  2.  4. 16.]] \n",
      "score: 64.0\n",
      "\n",
      "chose move:  right\n",
      "[[ 0.  0.  0.  0.]\n",
      " [ 0.  0.  8.  4.]\n",
      " [ 2.  0.  0.  8.]\n",
      " [ 0.  4.  4. 16.]] \n",
      "score: 76.0\n",
      "\n",
      "chose move:  down\n",
      "[[ 0.  0.  0.  0.]\n",
      " [ 0.  0.  0.  4.]\n",
      " [ 2.  0.  8.  8.]\n",
      " [ 2.  4.  4. 16.]] \n",
      "score: 76.0\n",
      "\n",
      "chose move:  left\n",
      "[[ 0.  0.  0.  0.]\n",
      " [ 4.  0.  0.  4.]\n",
      " [ 2. 16.  0.  0.]\n",
      " [ 2.  8. 16.  0.]] \n",
      "score: 100.0\n",
      "\n",
      "chose move:  down\n",
      "[[ 0.  0.  0.  0.]\n",
      " [ 0.  0.  0.  2.]\n",
      " [ 4. 16.  0.  0.]\n",
      " [ 4.  8. 16.  4.]] \n",
      "score: 104.0\n",
      "\n",
      "chose move:  down\n",
      "[[ 0.  0.  0.  2.]\n",
      " [ 0.  0.  0.  0.]\n",
      " [ 0. 16.  0.  2.]\n",
      " [ 8.  8. 16.  4.]] \n",
      "score: 112.0\n",
      "\n",
      "chose move:  right\n",
      "[[ 0.  0.  0.  2.]\n",
      " [ 0.  0.  4.  0.]\n",
      " [ 0.  0. 16.  2.]\n",
      " [ 0. 16. 16.  4.]] \n",
      "score: 128.0\n",
      "\n",
      "chose move:  left\n",
      "[[ 2.  0.  0.  0.]\n",
      " [ 4.  0.  0.  0.]\n",
      " [16.  2.  0.  0.]\n",
      " [32.  4.  0.  2.]] \n",
      "score: 160.0\n",
      "\n",
      "chose move:  right\n",
      "[[ 0.  0.  0.  2.]\n",
      " [ 0.  0.  0.  4.]\n",
      " [ 0.  2. 16.  2.]\n",
      " [ 0. 32.  4.  2.]] \n",
      "score: 160.0\n",
      "\n",
      "chose move:  right\n",
      "[[ 2.  0.  0.  2.]\n",
      " [ 0.  0.  0.  4.]\n",
      " [ 0.  2. 16.  2.]\n",
      " [ 0. 32.  4.  2.]] \n",
      "score: 160.0\n",
      "\n",
      "chose move:  down\n",
      "[[ 0.  0.  0.  0.]\n",
      " [ 0.  0.  0.  2.]\n",
      " [ 2.  2. 16.  4.]\n",
      " [ 2. 32.  4.  4.]] \n",
      "score: 164.0\n",
      "\n",
      "chose move:  up\n",
      "[[ 4.  2. 16.  2.]\n",
      " [ 0. 32.  4.  8.]\n",
      " [ 0.  4.  0.  0.]\n",
      " [ 0.  0.  0.  0.]] \n",
      "score: 176.0\n",
      "\n",
      "chose move:  down\n",
      "[[ 0.  0.  0.  0.]\n",
      " [ 0.  2.  0.  2.]\n",
      " [ 0. 32. 16.  2.]\n",
      " [ 4.  4.  4.  8.]] \n",
      "score: 176.0\n",
      "\n",
      "chose move:  down\n",
      "[[ 2.  0.  0.  0.]\n",
      " [ 0.  2.  0.  0.]\n",
      " [ 0. 32. 16.  4.]\n",
      " [ 4.  4.  4.  8.]] \n",
      "score: 180.0\n",
      "\n",
      "chose move:  right\n",
      "[[ 0.  0.  0.  2.]\n",
      " [ 0.  0.  2.  2.]\n",
      " [ 0. 32. 16.  4.]\n",
      " [ 0.  4.  8.  8.]] \n",
      "score: 188.0\n",
      "\n",
      "chose move:  right\n",
      "[[ 4.  0.  0.  2.]\n",
      " [ 0.  0.  0.  4.]\n",
      " [ 0. 32. 16.  4.]\n",
      " [ 0.  0.  4. 16.]] \n",
      "score: 208.0\n",
      "\n",
      "chose move:  up\n",
      "[[ 4. 32. 16.  2.]\n",
      " [ 0.  0.  4.  8.]\n",
      " [ 2.  0.  0. 16.]\n",
      " [ 0.  0.  0.  0.]] \n",
      "score: 216.0\n",
      "\n",
      "chose move:  down\n",
      "[[ 0.  0.  0.  0.]\n",
      " [ 0.  2.  0.  2.]\n",
      " [ 4.  0. 16.  8.]\n",
      " [ 2. 32.  4. 16.]] \n",
      "score: 216.0\n",
      "\n",
      "chose move:  up\n",
      "[[ 4.  2. 16.  2.]\n",
      " [ 2. 32.  4.  8.]\n",
      " [ 0.  0.  0. 16.]\n",
      " [ 0.  0.  4.  0.]] \n",
      "score: 216.0\n",
      "\n",
      "chose move:  down\n",
      "[[ 0.  0.  4.  0.]\n",
      " [ 0.  0.  0.  2.]\n",
      " [ 4.  2. 16.  8.]\n",
      " [ 2. 32.  8. 16.]] \n",
      "score: 224.0\n",
      "\n",
      "chose move:  down\n",
      "[[ 0.  0.  0.  2.]\n",
      " [ 0.  0.  4.  2.]\n",
      " [ 4.  2. 16.  8.]\n",
      " [ 2. 32.  8. 16.]] \n",
      "score: 224.0\n",
      "\n",
      "chose move:  left\n",
      "[[ 2.  0.  0.  2.]\n",
      " [ 4.  2.  0.  0.]\n",
      " [ 4.  2. 16.  8.]\n",
      " [ 2. 32.  8. 16.]] \n",
      "score: 224.0\n",
      "\n",
      "chose move:  left\n",
      "[[ 4.  0.  0.  2.]\n",
      " [ 4.  2.  0.  0.]\n",
      " [ 4.  2. 16.  8.]\n",
      " [ 2. 32.  8. 16.]] \n",
      "score: 228.0\n",
      "\n",
      "chose move:  down\n",
      "[[ 0.  0.  0.  0.]\n",
      " [ 4.  4.  0.  2.]\n",
      " [ 8.  4. 16.  8.]\n",
      " [ 2. 32.  8. 16.]] \n",
      "score: 240.0\n",
      "\n",
      "chose move:  down\n",
      "[[ 0.  0.  0.  0.]\n",
      " [ 4.  0.  2.  2.]\n",
      " [ 8.  8. 16.  8.]\n",
      " [ 2. 32.  8. 16.]] \n",
      "score: 248.0\n",
      "\n",
      "chose move:  down\n",
      "[[ 0.  0.  0.  0.]\n",
      " [ 4.  2.  2.  2.]\n",
      " [ 8.  8. 16.  8.]\n",
      " [ 2. 32.  8. 16.]] \n",
      "score: 248.0\n",
      "\n",
      "chose move:  down\n",
      "[[ 0.  2.  0.  0.]\n",
      " [ 4.  2.  2.  2.]\n",
      " [ 8.  8. 16.  8.]\n",
      " [ 2. 32.  8. 16.]] \n",
      "score: 248.0\n",
      "\n",
      "chose move:  right\n",
      "[[ 0.  2.  0.  2.]\n",
      " [ 0.  4.  2.  4.]\n",
      " [ 0. 16. 16.  8.]\n",
      " [ 2. 32.  8. 16.]] \n",
      "score: 268.0\n",
      "\n",
      "chose move:  left\n",
      "[[ 4.  0.  0.  4.]\n",
      " [ 4.  2.  4.  0.]\n",
      " [32.  8.  0.  0.]\n",
      " [ 2. 32.  8. 16.]] \n",
      "score: 304.0\n",
      "\n",
      "chose move:  up\n",
      "[[ 8.  2.  4.  4.]\n",
      " [32.  8.  8. 16.]\n",
      " [ 2. 32.  0.  0.]\n",
      " [ 0.  0.  0.  2.]] \n",
      "score: 312.0\n",
      "\n",
      "chose move:  up\n",
      "[[ 8.  2.  4.  4.]\n",
      " [32.  8.  8. 16.]\n",
      " [ 2. 32.  0.  2.]\n",
      " [ 0.  0.  0.  4.]] \n",
      "score: 312.0\n",
      "\n",
      "chose move:  up\n",
      "[[ 8.  2.  4.  4.]\n",
      " [32.  8.  8. 16.]\n",
      " [ 2. 32.  0.  2.]\n",
      " [ 2.  0.  0.  4.]] \n",
      "score: 312.0\n",
      "\n",
      "chose move:  down\n",
      "[[ 0.  0.  2.  4.]\n",
      " [ 8.  2.  0. 16.]\n",
      " [32.  8.  4.  2.]\n",
      " [ 4. 32.  8.  4.]] \n",
      "score: 316.0\n",
      "\n",
      "chose move:  right\n",
      "[[ 0.  0.  2.  4.]\n",
      " [ 2.  8.  2. 16.]\n",
      " [32.  8.  4.  2.]\n",
      " [ 4. 32.  8.  4.]] \n",
      "score: 316.0\n",
      "\n",
      "chose move:  left\n",
      "[[ 2.  4.  2.  0.]\n",
      " [ 2.  8.  2. 16.]\n",
      " [32.  8.  4.  2.]\n",
      " [ 4. 32.  8.  4.]] \n",
      "score: 316.0\n",
      "\n",
      "chose move:  left\n",
      "[[ 2.  4.  2.  2.]\n",
      " [ 2.  8.  2. 16.]\n",
      " [32.  8.  4.  2.]\n",
      " [ 4. 32.  8.  4.]] \n",
      "score: 316.0\n",
      "\n"
     ]
    }
   ],
   "source": [
    "moves = {0: \"up\", 1: \"right\", 2: \"down\", 3: \"left\"}\n",
    "\n",
    "\n",
    "board = np.zeros((4,4))\n",
    "score = 0\n",
    "print(board, f\"\\nscore: {score}\\n\")\n",
    "while has_open_space(board):\n",
    "    move = np.random.choice(4)\n",
    "    print(\"chose move: \", moves[move])\n",
    "    board, score = make_move(board, score, move)\n",
    "    board = add_value(board)\n",
    "    print(board, f\"\\nscore: {score}\\n\")"
   ],
   "metadata": {
    "collapsed": false
   }
  },
  {
   "cell_type": "code",
   "execution_count": 43,
   "outputs": [
    {
     "name": "stdout",
     "output_type": "stream",
     "text": [
      "[[ 1  2  3  4]\n",
      " [ 5  6  7  8]\n",
      " [ 9 10 11 12]\n",
      " [13 14 15 16]]\n"
     ]
    }
   ],
   "source": [
    "count_up = np.array([[1, 2, 3, 4],\n",
    "                   [5, 6, 7, 8],\n",
    "                   [9, 10, 11, 12],\n",
    "                   [13, 14, 15, 16]])\n",
    "print(count_up)"
   ],
   "metadata": {
    "collapsed": false
   }
  },
  {
   "cell_type": "code",
   "execution_count": 37,
   "outputs": [
    {
     "data": {
      "text/plain": "4"
     },
     "execution_count": 37,
     "metadata": {},
     "output_type": "execute_result"
    }
   ],
   "source": [
    "count_up[0,3]"
   ],
   "metadata": {
    "collapsed": false
   }
  },
  {
   "cell_type": "code",
   "execution_count": 44,
   "outputs": [
    {
     "name": "stdout",
     "output_type": "stream",
     "text": [
      "[[14  2  3  4]\n",
      " [ 5  6  7  8]\n",
      " [ 9 10 11 12]\n",
      " [13  1 15 16]]\n"
     ]
    }
   ],
   "source": [
    "count_up[(0,3), (0,1)] = count_up[(3,0), (1,0)]     #think rows then columns\n",
    "print(count_up)"
   ],
   "metadata": {
    "collapsed": false
   }
  },
  {
   "cell_type": "code",
   "execution_count": 34,
   "outputs": [
    {
     "name": "stdout",
     "output_type": "stream",
     "text": [
      "[[ 4  8 12 16]\n",
      " [ 3  7 11 15]\n",
      " [ 2  6 10 14]\n",
      " [ 1  5  9 13]]\n"
     ]
    }
   ],
   "source": [
    "rotated_once = np.rot90(count_up, k=1)\n",
    "print(rotated_once)"
   ],
   "metadata": {
    "collapsed": false
   }
  },
  {
   "cell_type": "code",
   "execution_count": 36,
   "outputs": [
    {
     "name": "stdout",
     "output_type": "stream",
     "text": [
      "(4, 4)\n"
     ]
    }
   ],
   "source": [
    "print(rotated_once.shape)"
   ],
   "metadata": {
    "collapsed": false
   }
  },
  {
   "cell_type": "code",
   "execution_count": 35,
   "outputs": [
    {
     "name": "stdout",
     "output_type": "stream",
     "text": [
      "[[ 1  2  3  4]\n",
      " [ 5  6  7  8]\n",
      " [ 9 10 11 12]\n",
      " [13 14 15 16]]\n"
     ]
    }
   ],
   "source": [
    "rotated_zero = np.rot90(count_up, k=0)\n",
    "print(rotated_zero)"
   ],
   "metadata": {
    "collapsed": false
   }
  },
  {
   "cell_type": "code",
   "execution_count": 88,
   "outputs": [
    {
     "name": "stdout",
     "output_type": "stream",
     "text": [
      "[[2 2 0 2]\n",
      " [0 0 2 2]\n",
      " [0 2 4 4]\n",
      " [0 0 4 4]]\n"
     ]
    }
   ],
   "source": [
    "test_board = np.array([[2, 2, 0, 2],\n",
    "                       [0, 0, 2, 2],\n",
    "                       [0, 2, 4, 4],\n",
    "                       [0, 0, 4, 4]], dtype=int)\n",
    "print(test_board)"
   ],
   "metadata": {
    "collapsed": false
   }
  },
  {
   "cell_type": "code",
   "execution_count": 90,
   "outputs": [
    {
     "name": "stdout",
     "output_type": "stream",
     "text": [
      "[[2 2 2 2]\n",
      " [0 2 4 2]\n",
      " [0 0 4 4]\n",
      " [0 0 0 4]]\n",
      "\n",
      " (array([[2, 4, 2, 4],\n",
      "       [0, 0, 8, 8],\n",
      "       [0, 0, 0, 0],\n",
      "       [0, 0, 0, 0]]), 24)\n"
     ]
    }
   ],
   "source": [
    "shifted = shift(test_board)\n",
    "print(shifted)\n",
    "print(\"\\n\", join(shifted))"
   ],
   "metadata": {
    "collapsed": false
   }
  },
  {
   "cell_type": "code",
   "execution_count": 70,
   "outputs": [],
   "source": [
    "new_test_board = np.copy(test_board)\n",
    "new_test_board[:, 3] = np.roll(new_test_board[:, 3], -1)"
   ],
   "metadata": {
    "collapsed": false
   }
  },
  {
   "cell_type": "code",
   "execution_count": 71,
   "outputs": [
    {
     "name": "stdout",
     "output_type": "stream",
     "text": [
      "[[2 2 0 2]\n",
      " [0 0 0 0]\n",
      " [0 2 0 4]\n",
      " [0 0 4 0]]\n"
     ]
    }
   ],
   "source": [
    "print(new_test_board)"
   ],
   "metadata": {
    "collapsed": false
   }
  },
  {
   "cell_type": "code",
   "execution_count": 60,
   "outputs": [
    {
     "name": "stdout",
     "output_type": "stream",
     "text": [
      "[[2 2 4 2]\n",
      " [0 2 0 4]\n",
      " [0 0 0 0]\n",
      " [0 0 0 0]]\n"
     ]
    }
   ],
   "source": [
    "print(shift(test_board))"
   ],
   "metadata": {
    "collapsed": false
   }
  }
 ],
 "metadata": {
  "kernelspec": {
   "display_name": "Python 3",
   "language": "python",
   "name": "python3"
  },
  "language_info": {
   "codemirror_mode": {
    "name": "ipython",
    "version": 2
   },
   "file_extension": ".py",
   "mimetype": "text/x-python",
   "name": "python",
   "nbconvert_exporter": "python",
   "pygments_lexer": "ipython2",
   "version": "2.7.6"
  }
 },
 "nbformat": 4,
 "nbformat_minor": 0
}
